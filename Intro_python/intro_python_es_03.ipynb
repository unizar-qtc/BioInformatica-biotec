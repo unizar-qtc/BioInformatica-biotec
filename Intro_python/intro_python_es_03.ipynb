{
 "cells": [
  {
   "cell_type": "markdown",
   "metadata": {},
   "source": [
    "# Introducción rápida a *Python* para Biotecnólogos\n",
    "\n",
    "#### Laboratorio de Bioinformática\n",
    "Grado en Biotecnología - *Universidad de Zaragoza*"
   ]
  },
  {
   "cell_type": "markdown",
   "metadata": {},
   "source": [
    "## Estructuras de control\n",
    "\n",
    "Un programa se ejecutará en el orden en que se escriban las instrucciones. Sin embargo, es bastante común desviarse de este comportamiento para llegar a soluciones más complejas.\n",
    "\n",
    "- Con *condicionales* puedes decidir si una parte del programa se ejecuta o no.\n",
    "- Con *ciclos* puedes repetir una parte del programa un número determinado de veces.\n",
    "- Con *funciones* puedes crear sub-programas que puedan ser llamados desde otros puntos del programa y ser reutilizados."
   ]
  },
  {
   "cell_type": "markdown",
   "metadata": {},
   "source": [
    "## Condicional: **if**\n",
    "\n",
    "Una instrucción condicional determina si un determinado bloque de código se va a ejecutar o no según una condición que le demos.\n",
    "\n",
    "Se inician con el comando especial `if`, seguido de la expresión a evaluar y dos puntos `:`. El bloque de código que se ve afectado se escribe indentado. (Con 2 o 4 espacios iniciales)."
   ]
  },
  {
   "cell_type": "code",
   "execution_count": null,
   "metadata": {},
   "outputs": [],
   "source": [
    "if 7 > 4:\n",
    "  print(\"Pues es verdad\")"
   ]
  },
  {
   "cell_type": "markdown",
   "metadata": {},
   "source": [
    "Si además queremos realizar una acción solo si no se comple la condicion dada, podemos añadir un `else` después del `if`."
   ]
  },
  {
   "cell_type": "code",
   "execution_count": null,
   "metadata": {},
   "outputs": [],
   "source": [
    "estructura = \"globular\"\n",
    "\n",
    "if estructura == \"globular\":\n",
    "  print(\"Es globular\")\n",
    "else:\n",
    "  print(\"Será fibrilar\")"
   ]
  },
  {
   "cell_type": "markdown",
   "metadata": {},
   "source": [
    "Podemos encadenar varias condicionales para hacer diferentes cosas en funcion de qué sea verdadero. Para ello juntamos el `else`+`if` para generar un `elif`."
   ]
  },
  {
   "cell_type": "code",
   "execution_count": null,
   "metadata": {},
   "outputs": [],
   "source": [
    "base_n = \"T\"\n",
    "\n",
    "if base_n == \"C\" or base_n == \"T\":\n",
    "  print(\"Pirimidina\")\n",
    "elif base_n == \"A\" or base_n == \"G\":\n",
    "  print(\"Purina\")\n",
    "else:\n",
    "  print(\"No es una base nitrogenada\")"
   ]
  },
  {
   "cell_type": "markdown",
   "metadata": {},
   "source": [
    "## Bucles: **for** / **while**\n",
    "\n",
    "Cuando una operación tiene que ser ejecutada multiples veces, en vez de escribir código repetitivo a mano (o copar y pegarlo) lo mismo muchas veces, podemos utilizar un *bucle*. Así, el trozo de código que esté afectado (indentado) se repetirá según le indiquemos:"
   ]
  },
  {
   "cell_type": "markdown",
   "metadata": {},
   "source": [
    "Si un bucle empieza por `for`, se ejecuta una vez por cada elemento de un rango que le pasemos. El valor que tenga en cada iteración será asignado a una variable que le pasaremos delante de `in`."
   ]
  },
  {
   "cell_type": "code",
   "execution_count": null,
   "metadata": {},
   "outputs": [],
   "source": [
    "for i in range(0, 10):\n",
    "  print(i)"
   ]
  },
  {
   "cell_type": "markdown",
   "metadata": {},
   "source": [
    "Además de iterar sobre un rango de números, podemos hacer un ciclo sobre una lista en la que en cada iteración le asignemos a nuestra variable un elemento."
   ]
  },
  {
   "cell_type": "code",
   "execution_count": null,
   "metadata": {},
   "outputs": [],
   "source": [
    "dnaSequence = 'ATGGTGTTGCC'\n",
    "\n",
    "for base in dnaSequence:\n",
    "  print(base)"
   ]
  },
  {
   "cell_type": "markdown",
   "metadata": {},
   "source": [
    "Si por el contrario el bucle empieza por `while`, se ejecuta mientras la condición que le pasemos sea verdadera."
   ]
  },
  {
   "cell_type": "code",
   "execution_count": null,
   "metadata": {},
   "outputs": [],
   "source": [
    "res = 1\n",
    "while res < 50:\n",
    "  res = res * 2\n",
    "\n",
    "print(res)"
   ]
  },
  {
   "cell_type": "markdown",
   "metadata": {},
   "source": [
    "Si por agún motivo queremos cambiar el comportamiento del bucle a mitad de ejecución, podemos utilizar `break` para salir inmediatamente sin ejecutar el código que esté debajo. Para ello, también incluimos sentencias condicioneales dentro del bucle."
   ]
  },
  {
   "cell_type": "code",
   "execution_count": null,
   "metadata": {},
   "outputs": [],
   "source": [
    "# cuenta el numero de citosinas o de timinas hasta que encuentre otra base nitrogenada\n",
    "\n",
    "seq = 'CTCCTCTTGCTC'\n",
    "\n",
    "n = 0\n",
    "for base in seq:\n",
    "  if base == 'C':\n",
    "    n = n + 1\n",
    "  else:\n",
    "    break\n",
    "\n",
    "print(n)"
   ]
  },
  {
   "cell_type": "markdown",
   "metadata": {},
   "source": [
    "## Funciones\n",
    "\n",
    "Hasta ahora hemos visto y utilizado funciones disponibles en *python*, pero tambien podemos crear nuestrar propias funciones. Definimos el nombre de la nueva función con la palabra reservada `def` y delimitamos una lista de argumentos separados por comas que le podremos pasar. El código que esté indentado debajo se ejecutará cada vez que llamemos a la nueva funcion con sus argumentos entre parentesis."
   ]
  },
  {
   "cell_type": "code",
   "execution_count": null,
   "metadata": {},
   "outputs": [],
   "source": [
    "def print_cuadrado(n):\n",
    "  print(n ** 2)\n",
    "\n",
    "print_cuadrado(5)"
   ]
  },
  {
   "cell_type": "markdown",
   "metadata": {},
   "source": [
    "Si queremos que, ademas de hacer algo, la funcion devuelva un valor al final de la ejecución, podemos utilizar la palabra reservada `return` para indicarlo. Esto es muy util para asignar nuevos valores a variables o evaluar expresiones condicionales."
   ]
  },
  {
   "cell_type": "code",
   "execution_count": null,
   "metadata": {},
   "outputs": [],
   "source": [
    "def codon_stop(base1, base2, base3):\n",
    "  codon = base1 + base2 + base3\n",
    "  if codon in [\"TAA\", \"TAG\", \"TGA\"]:\n",
    "    return True\n",
    "  else:\n",
    "    return False\n",
    "\n",
    "es_codon_stop = codon_stop(\"T\", \"A\", \"A\")\n",
    "print(es_codon_stop)"
   ]
  },
  {
   "cell_type": "markdown",
   "metadata": {},
   "source": [
    "Las funciones son especialmente útiles cuando tenemos un trozo de código que se va a repetir muchas veces, como por ejemplo en un bucle."
   ]
  },
  {
   "cell_type": "code",
   "execution_count": null,
   "metadata": {},
   "outputs": [],
   "source": [
    "def codon_start(base1, base2, base3):\n",
    "  codon = base1 + base2 + base3\n",
    "  return codon == \"ATG\"\n",
    "\n",
    "\n",
    "seq = \"ACCATTTCTAAGGCCATTGTAATGCGCCGCTGAAATGGGTGCCCGATAGAATTCGATCCTG\"\n",
    "\n",
    "# ¿donde se encuentra el codon de inicio?\n",
    "for i in range(len(seq)):\n",
    "  if codon_start(seq[i], seq[i + 1], seq[i + 2]):\n",
    "    print(i+1)\n",
    "    break"
   ]
  },
  {
   "cell_type": "markdown",
   "metadata": {},
   "source": [
    "### Ejercicio recopilatorio: **Ribosoma**\n",
    "\n",
    "Utilizando la funcion `traductor` que hay a continuacion, escribe otra funcion llamada `ribosoma` que reciba una cadena de ADN y devuelva la cadena de aminoácidos correspondiente.\n",
    "\n",
    "Ten en cuenta que la secuencia de ADN propuesta como ejemplo ya empieza con un codón codificante pero no se sabe donde está el codón terminal."
   ]
  },
  {
   "cell_type": "code",
   "execution_count": null,
   "metadata": {},
   "outputs": [],
   "source": [
    "def traductor(base1, base2, base3):\n",
    "  g_code = {\"TTT\":\"F\", \"TTC\":\"F\", \"TTA\":\"L\", \"TTG\":\"L\",\n",
    "            \"TCT\":\"S\", \"TCC\":\"S\", \"TCA\":\"S\", \"TCG\":\"S\",\n",
    "            \"TAT\":\"Y\", \"TAC\":\"Y\", \"GGA\":\"G\", \"GGG\":\"G\",\n",
    "            \"TGT\":\"C\", \"TGC\":\"C\", \"TGG\":\"W\", \"GGC\":\"G\",\n",
    "            \"CTT\":\"L\", \"CTC\":\"L\", \"CTA\":\"L\", \"CTG\":\"L\",\n",
    "            \"CCT\":\"P\", \"CCC\":\"P\", \"CCA\":\"P\", \"CCG\":\"P\",\n",
    "            \"CAT\":\"H\", \"CAC\":\"H\", \"CAA\":\"Q\", \"CAG\":\"Q\",\n",
    "            \"CGT\":\"R\", \"CGC\":\"R\", \"CGA\":\"R\", \"CGG\":\"R\",\n",
    "            \"ATT\":\"I\", \"ATC\":\"I\", \"ATA\":\"I\", \"ATG\":\"M\",\n",
    "            \"ACT\":\"T\", \"ACC\":\"T\", \"ACA\":\"T\", \"ACG\":\"T\",\n",
    "            \"AAT\":\"N\", \"AAC\":\"N\", \"AAA\":\"K\", \"AAG\":\"K\",\n",
    "            \"AGT\":\"S\", \"AGC\":\"S\", \"AGA\":\"R\", \"AGG\":\"R\",\n",
    "            \"GTT\":\"V\", \"GTC\":\"V\", \"GTA\":\"V\", \"GTG\":\"V\",\n",
    "            \"GCT\":\"A\", \"GCC\":\"A\", \"GCA\":\"A\", \"GCG\":\"A\",\n",
    "            \"GAT\":\"D\", \"GAC\":\"D\", \"GAA\":\"E\", \"GAG\":\"E\",\n",
    "            \"GGT\":\"G\"}\n",
    "  codon = base1 + base2 + base3\n",
    "  return g_code[codon]\n",
    "\n",
    "\n",
    "seq = \"ATGGCCATTGTAATGCGCCGCTGAAAGGGTGCCCGATAGAATTCGATCCTG\"\n"
   ]
  },
  {
   "cell_type": "code",
   "execution_count": null,
   "metadata": {
    "cellView": "form"
   },
   "outputs": [],
   "source": [
    "#@markdown Resultado de la funcion `ribosoma`\n",
    "\n",
    "def ribosoma(sequence):\n",
    "  proteina = \"\"\n",
    "  for i in range(0, len(seq), 3):\n",
    "    if codon_stop(sequence[i], sequence[i+1], sequence[i+2]):\n",
    "      break\n",
    "    else:\n",
    "      nuevo_residuo = traductor(sequence[i], sequence[i+1], sequence[i+2])\n",
    "      proteina = proteina + nuevo_residuo\n",
    "  print(proteina)\n",
    "\n",
    "ribosoma(seq)\n"
   ]
  },
  {
   "cell_type": "markdown",
   "metadata": {},
   "source": [
    "## Módulos"
   ]
  },
  {
   "cell_type": "markdown",
   "metadata": {},
   "source": [
    "Uno de los motivos por los que *Python* es tan popular y poderoso es gracias a la posibilidad de utilizar módulos de forma sencilla. ([xkcd](xkcd.com/353) relevante)\n",
    "\n",
    "Dentro de un programa podemos *importar* y usar sus funciones y métodos directamente. Esto nos da la posibilidad de reutilizar cualquier código y que no importe cuato de complejo sea lo que hay detrás, casi siempre podremos utilizarlo facilmente.\n",
    "\n",
    "Aparte de usar un módulos que nosotros hayamos escrito, existe el repositorio oficial [PyPi](https://pypi.org/) donde gente de la comunidad puede publicar sus propios módulos que podremos instalar libremente. Entre los mas populares están:\n",
    "- [numpy](https://numpy.org/) - Matemáticas y cálculo númerico. Nos permite trabajar con matrices, vectores y mucho más.\n",
    "- [scipy](https://www.scipy.org/) - Cálculo de ecuaciones diferenciales y matematica compleja.\n",
    "- [pandas](https://pandas.pydata.org/) - Dataframes, analisis y estadística.\n",
    "- [matplotlib](https://matplotlib.org/) - Gráficos.\n",
    "- [biopython](https://biopython.org/) - Bioinformática.\n",
    "\n",
    "Para descargar e instalar un módulo desde un Jupyter notebook, utilizamos el comando `!pip install <nombre_del_modulo>`."
   ]
  },
  {
   "cell_type": "code",
   "execution_count": null,
   "metadata": {},
   "outputs": [],
   "source": [
    "!pip install biopython"
   ]
  },
  {
   "cell_type": "markdown",
   "metadata": {},
   "source": [
    "Para importar un módulo, utilizamos la palabra `import` seguida del nombre del módulo. Si no queremos importar todas las funciones del módulo, podemos solo lo que queremos usar com `from`."
   ]
  },
  {
   "cell_type": "code",
   "execution_count": null,
   "metadata": {},
   "outputs": [],
   "source": [
    "import numpy\n",
    "from Bio.Seq import Seq\n",
    "\n",
    "seq = \"ATGGCCATTGTAATGCGCCGCTGAAAGGGTGCCCGATAGAATTCGATCCTG\"\n",
    "\n",
    "dna_seq = Seq(seq)\n",
    "aa_seq = dna_seq.translate(to_stop=True)\n",
    "print(aa_seq)\n"
   ]
  }
 ],
 "metadata": {
  "interpreter": {
   "hash": "ac59ebe37160ed0dfa835113d9b8498d9f09ceb179beaac4002f036b9467c963"
  },
  "kernelspec": {
   "display_name": "Python 3.9.1 64-bit",
   "language": "python",
   "name": "python3"
  },
  "language_info": {
   "codemirror_mode": {
    "name": "ipython",
    "version": 3
   },
   "file_extension": ".py",
   "mimetype": "text/x-python",
   "name": "python",
   "nbconvert_exporter": "python",
   "pygments_lexer": "ipython3",
   "version": "3.8.10"
  },
  "orig_nbformat": 4
 },
 "nbformat": 4,
 "nbformat_minor": 2
}
