{
 "cells": [
  {
   "cell_type": "markdown",
   "metadata": {},
   "source": [
    "# Introducción rápida a *Python* para Biotecnólogos\n",
    "\n",
    "#### Laboratorio de Bioinformática\n",
    "Grado en Biotecnología - *Universidad de Zaragoza*"
   ]
  },
  {
   "cell_type": "markdown",
   "metadata": {},
   "source": [
    "## Estructuras de control\n",
    "\n",
    "Un programa se ejecutará en el orden en que se escriban las instrucciones. Sin embargo, es bastante común desviarse de este comportamiento para llegar a soluciones más complejas.\n",
    "\n",
    "- Con *condicionales* puedes decidir si una parte del programa se ejecuta o no.\n",
    "- Con *ciclos* puedes repetir una parte del programa un número determinado de veces.\n",
    "- Con *funciones* puedes crear sub-programas que puedan ser llamados desde otros puntos del programa y ser reutilizados."
   ]
  },
  {
   "cell_type": "markdown",
   "metadata": {},
   "source": [
    "## Condicional: **if**\n",
    "\n",
    "Una instrucción condicional determina si un determinado bloque de código se va a ejecutar o no según una condición que le demos.\n",
    "\n",
    "Se inician con el comando especial `if`, seguido de la expresión a evaluar y dos puntos `:`. El bloque de código que se ve afectado se escribe indentado. (Con 2 o 4 espacios iniciales)."
   ]
  },
  {
   "cell_type": "code",
   "execution_count": null,
   "metadata": {},
   "outputs": [],
   "source": [
    "if 7 > 4:\n",
    "    print(\"Pues es verdad\")"
   ]
  },
  {
   "cell_type": "markdown",
   "metadata": {},
   "source": [
    "Podemos encadenar varias condicionales para hacer diferentes cosas en funcion de qué sea verdadero. Para ello utilizaremos `elif` de igual manera que usabamos `if`.\n",
    "\n",
    "Tambien podemos usar simplemente `else` si no se comple ninguna de las condiciones anteriores."
   ]
  },
  {
   "cell_type": "code",
   "execution_count": null,
   "metadata": {},
   "outputs": [],
   "source": [
    "base_n = \"T\"\n",
    "\n",
    "if base_n == \"C\" or base_n == \"T\":\n",
    "    print(\"Pirimidina\")\n",
    "elif base_n == \"A\" or base_n == \"G\":\n",
    "    print(\"Purina\")\n",
    "else:\n",
    "    print(\"No es una base nitrogenada\")"
   ]
  },
  {
   "cell_type": "markdown",
   "metadata": {},
   "source": [
    "## Bucles: **for** / **while**\n",
    "\n",
    "Cuando una operación tiene que ser ejecutada multiples veces, en vez de escribir código repetitivo a mano (o copar y pegarlo) lo mismo muchas veces, podemos utilizar un *bucle*. Así, el trozo de código que esté afectado (indentado) se repetirá según le indiquemos:"
   ]
  },
  {
   "cell_type": "markdown",
   "metadata": {},
   "source": [
    "Si un bucle empieza por `for`, se ejecuta una vez por cada elemento de una lista que le pasemos. El valor que tenga en cada iteración será asignado a una variable. "
   ]
  },
  {
   "cell_type": "code",
   "execution_count": null,
   "metadata": {},
   "outputs": [],
   "source": [
    "dnaSequence = 'ATGGTGTTGCC'\n",
    "\n",
    "for base in dnaSequence:\n",
    "    print(base)"
   ]
  },
  {
   "cell_type": "markdown",
   "metadata": {},
   "source": [
    "Si por el contrario el bucle empieza por `while`, se ejecuta mientras la condición que le pasemos sea verdadera."
   ]
  },
  {
   "cell_type": "code",
   "execution_count": null,
   "metadata": {},
   "outputs": [],
   "source": [
    "res = 1\n",
    "while res < 50:\n",
    "    res = res * 2\n",
    "\n",
    "print(res)"
   ]
  },
  {
   "cell_type": "markdown",
   "metadata": {},
   "source": [
    "Si por agún motivo queremos cambiar el comportamiento del bucle a mitad de ejecución, podemos utilizar `break` para salir inmediatamente o `continue` para saltar a la siguiente iteración, sin ejecutar el código que esté debajo."
   ]
  },
  {
   "cell_type": "code",
   "execution_count": null,
   "metadata": {},
   "outputs": [],
   "source": [
    "# cuenta el numero de citosinas pero no de timinas, acaba cuando encuentra otra cosa\n",
    "\n",
    "seq = 'CTCCTCTTGCTC'\n",
    "\n",
    "n = 0\n",
    "for base in seq:\n",
    "    if base == 'C':\n",
    "        n = n + 1\n",
    "    elif base == 'T':\n",
    "        continue\n",
    "    else:\n",
    "        break\n",
    "\n",
    "print(n)"
   ]
  },
  {
   "cell_type": "markdown",
   "metadata": {},
   "source": [
    "Cuando trabajamos con bucles, una de las funciones mas útiles vuelve a ser `range()`, para iterar sobre un rango de números concreto."
   ]
  },
  {
   "cell_type": "code",
   "execution_count": null,
   "metadata": {},
   "outputs": [],
   "source": [
    "for i in range(0, 10):\n",
    "    print(i)"
   ]
  },
  {
   "cell_type": "markdown",
   "metadata": {},
   "source": [
    "## Funciones\n",
    "\n",
    "Hasta ahora hemos visto y utilizado funciones disponibles en *python*, pero tambien podemos crear nuestrar propias funciones. Definimos el nombre de la nueva función con la palabra reservada `def` y delimitamos una lista de argumentos separados por comas que le podremos pasar. El código que esté indentado debajo se ejecutará cada vez que llamemos a la nueva funcion con sus argumentos entre parentesis.\n",
    "\n",
    "Si queremos el la funcion devuelva un valor al final de la ejecución, podemos utilizar la palabra reservada `return` para indicarlo.\n"
   ]
  },
  {
   "cell_type": "code",
   "execution_count": null,
   "metadata": {},
   "outputs": [],
   "source": [
    "def codon_stop(base1, base2, base3):\n",
    "    if base1 == 'T' and base2 == 'A' and base3 == 'A' or \\\n",
    "       base1 == 'T' and base2 == 'A' and base3 == 'G' or \\\n",
    "       base1 == 'T' and base2 == 'G' and base3 == 'A':\n",
    "        return True\n",
    "    else:\n",
    "        return False\n",
    "\n",
    "\n",
    "seq = \"ATGGCCATTGTAATGCGCCGCTGAAAGGGTGCCCGATAGAATTCGATCCTG\"\n",
    "\n",
    "# donde se encuentra el codon stop?\n",
    "for i in range(len(seq)):\n",
    "    if codon_stop(seq[i], seq[i + 1], seq[i + 2]):\n",
    "        print(n)\n",
    "        break\n"
   ]
  },
  {
   "cell_type": "markdown",
   "metadata": {},
   "source": [
    "### Ejercicio recopilatorio: **Ribosoma**\n",
    "\n",
    "Utilizando la funcion `traductor` que hay a continuacion, escribe otra funcion llamada `ribosoma` que reciba una cadena de ADN y devuelva la cadena de aminoácidos correspondiente.\n",
    "\n",
    "Ten en cuenta que la secuencia de ADN propuesta como ejemplo ya empieza con un codón codificante pero no se sabe donde está el codón terminal."
   ]
  },
  {
   "cell_type": "code",
   "execution_count": null,
   "metadata": {},
   "outputs": [],
   "source": [
    "def traductor(base1, base2, base3):\n",
    "    g_code = {\"TTT\":\"F\", \"TTC\":\"F\", \"TTA\":\"L\", \"TTG\":\"L\",\n",
    "              \"TCT\":\"S\", \"TCC\":\"S\", \"TCA\":\"S\", \"TCG\":\"S\",\n",
    "              \"TAT\":\"Y\", \"TAC\":\"Y\", \"GGA\":\"G\", \"GGG\":\"G\",\n",
    "              \"TGT\":\"C\", \"TGC\":\"C\", \"TGG\":\"W\", \"GGC\":\"G\",\n",
    "              \"CTT\":\"L\", \"CTC\":\"L\", \"CTA\":\"L\", \"CTG\":\"L\",\n",
    "              \"CCT\":\"P\", \"CCC\":\"P\", \"CCA\":\"P\", \"CCG\":\"P\",\n",
    "              \"CAT\":\"H\", \"CAC\":\"H\", \"CAA\":\"Q\", \"CAG\":\"Q\",\n",
    "              \"CGT\":\"R\", \"CGC\":\"R\", \"CGA\":\"R\", \"CGG\":\"R\",\n",
    "              \"ATT\":\"I\", \"ATC\":\"I\", \"ATA\":\"I\", \"ATG\":\"M\",\n",
    "              \"ACT\":\"T\", \"ACC\":\"T\", \"ACA\":\"T\", \"ACG\":\"T\",\n",
    "              \"AAT\":\"N\", \"AAC\":\"N\", \"AAA\":\"K\", \"AAG\":\"K\",\n",
    "              \"AGT\":\"S\", \"AGC\":\"S\", \"AGA\":\"R\", \"AGG\":\"R\",\n",
    "              \"GTT\":\"V\", \"GTC\":\"V\", \"GTA\":\"V\", \"GTG\":\"V\",\n",
    "              \"GCT\":\"A\", \"GCC\":\"A\", \"GCA\":\"A\", \"GCG\":\"A\",\n",
    "              \"GAT\":\"D\", \"GAC\":\"D\", \"GAA\":\"E\", \"GAG\":\"E\",\n",
    "              \"GGT\":\"G\"}\n",
    "    return g_code[base1+base2+base3]\n",
    "\n",
    "\n",
    "seq = \"ATGGCCATTGTAATGCGCCGCTGAAAGGGTGCCCGATAGAATTCGATCCTG\"\n"
   ]
  },
  {
   "cell_type": "code",
   "execution_count": null,
   "metadata": {},
   "outputs": [],
   "source": [
    "#@markdown Resultado de la funcion `ribosoma`\n",
    "\n",
    "def ribosoma(sequence):\n",
    "    proteina = \"\"\n",
    "    for i in range(0, len(seq), 3):\n",
    "        if codon_stop(sequence[i], sequence[i+1], sequence[i+2]):\n",
    "            break\n",
    "        else:\n",
    "                proteina = proteina + traductor(sequence[i], sequence[i+1], sequence[i+2])\n",
    "    return proteina\n",
    "\n",
    "print(ribosoma(seq))\n"
   ]
  },
  {
   "cell_type": "markdown",
   "metadata": {},
   "source": [
    "## Módulos"
   ]
  },
  {
   "cell_type": "markdown",
   "metadata": {},
   "source": [
    "Uno de los motivos por los que *Python* es tan popular y poderoso es gracias a la posibilidad de utilizar módulos de forma sencilla. ([xkcd](xkcd.com/353) relevante)\n",
    "\n",
    "Dentro de un programa podemos *importar* y usar sus funciones y métodos directamente. Esto nos da la posibilidad de reutilizar cualquier código y que no importe cuato de complejo sea lo que hay detrás, casi siempre podremos utilizarlo facilmente.\n",
    "\n",
    "Aparte de usar un módulos que nosotros hayamos escrito, existe el repositorio oficial [PyPi](https://pypi.org/) donde gente de la comunidad puede publicar sus propios módulos que podremos instalar libremente. Entre los mas populares están:\n",
    "- [numpy](https://numpy.org/) - Matemáticas y cálculo númerico. Nos permite trabajar con matrices, vectores y mucho más.\n",
    "- [scipy](https://www.scipy.org/) - Cálculo de ecuaciones diferenciales y matematica compleja.\n",
    "- [pandas](https://pandas.pydata.org/) - Dataframes, analisis y estadística.\n",
    "- [matplotlib](https://matplotlib.org/) - Gráficos.\n",
    "- [biopython](https://biopython.org/) - Bioinformática.\n",
    "\n",
    "Para descargar e instalar un módulo desde un Jupyter notebook, utilizamos el comando `!pip install <nombre_del_modulo>`."
   ]
  },
  {
   "cell_type": "code",
   "execution_count": null,
   "metadata": {},
   "outputs": [],
   "source": [
    "!pip install biopython"
   ]
  },
  {
   "cell_type": "markdown",
   "metadata": {},
   "source": [
    "Para importar un módulo, utilizamos la palabra `import` seguida del nombre del módulo. Si no queremos importar todas las funciones del módulo, podemos solo lo que queremos usar com `from`."
   ]
  },
  {
   "cell_type": "code",
   "execution_count": null,
   "metadata": {},
   "outputs": [],
   "source": [
    "import numpy\n",
    "from Bio.Seq import Seq\n",
    "\n",
    "dna_seq = Seq(seq)\n",
    "aa_seq = dna_seq.translate(to_stop=True)\n",
    "print(aa_seq)"
   ]
  }
 ],
 "metadata": {
  "interpreter": {
   "hash": "ac59ebe37160ed0dfa835113d9b8498d9f09ceb179beaac4002f036b9467c963"
  },
  "kernelspec": {
   "display_name": "Python 3.9.1 64-bit",
   "language": "python",
   "name": "python3"
  },
  "language_info": {
   "codemirror_mode": {
    "name": "ipython",
    "version": 3
   },
   "file_extension": ".py",
   "mimetype": "text/x-python",
   "name": "python",
   "nbconvert_exporter": "python",
   "pygments_lexer": "ipython3",
   "version": "3.9.1"
  },
  "orig_nbformat": 4
 },
 "nbformat": 4,
 "nbformat_minor": 2
}
