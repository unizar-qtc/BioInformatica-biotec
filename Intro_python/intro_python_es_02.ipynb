{
 "cells": [
  {
   "cell_type": "markdown",
   "metadata": {},
   "source": [
    "# Introducción rápida a *Python* para Biotecnólogos\n",
    "\n",
    "#### Laboratorio de Bioinformática\n",
    "Grado en Biotecnología - *Universidad de Zaragoza*"
   ]
  },
  {
   "cell_type": "markdown",
   "metadata": {},
   "source": [
    "## Variables\n",
    "Un concepto fundamental en el software es la *variable*. Es un espacio de memoria que se le puede asignar un valor. Como se puede imagnar de su nombre, este valor es modificable y puede variar.\n",
    "\n",
    "Para asignar un valor a una variable se utiliza el *operador de asignación* **=**.\n",
    "\n",
    "Para llamar a la variable simplemente se utiliza el nombre de la misma. ¡Cuidado, Python distingue entre mayúsculas y minúsculas! *VAR* y *var* son dos variables diferentes."
   ]
  },
  {
   "cell_type": "code",
   "execution_count": null,
   "metadata": {},
   "outputs": [],
   "source": [
    "var = \"¡Hola mundo!\"\n",
    "var = 3.14159"
   ]
  },
  {
   "cell_type": "markdown",
   "metadata": {},
   "source": [
    "Cada variable tiene un *tipo* de dato, que Python asignará automaticamente en función del valor que le demos. Si cambiamos el valor de una variable, el tipo de dato puede cambiar (tipado dinámico).\n",
    "\n",
    "### Enteros (int)\n",
    "Números enteros, positivos o negativos pero sin decimales.\n",
    "### Reales (float)\n",
    "Números con decimales (con \"coma flotante\").\n",
    "### Cadenas de carácteres (str)\n",
    "Texto. Deben estar delimitados por comillas simples ' o dobles \".\n",
    "### Lógicos (bool)\n",
    "Solo puden tener dos valores: verdadero o falso."
   ]
  },
  {
   "cell_type": "code",
   "execution_count": null,
   "metadata": {},
   "outputs": [],
   "source": [
    "var_int = 42\n",
    "var_float = 42.0\n",
    "var_str = \"42\"\n",
    "var_bool = True"
   ]
  },
  {
   "cell_type": "markdown",
   "metadata": {},
   "source": [
    "## print()\n",
    "Uno de las funciones más sencillas pero útiles en Python es `print()`, con la que podemos enseñar en pantalla el valor que le pasemos como argumento."
   ]
  },
  {
   "cell_type": "code",
   "execution_count": null,
   "metadata": {},
   "outputs": [],
   "source": [
    "print(\"¡Hola mundo!\")\n",
    "print(var_str)\n",
    "\n",
    "var = 10\n",
    "print(var)\n",
    "var = var + 2\n",
    "print(var)\n",
    "var = \"RuBisCO\"\n",
    "print(var)"
   ]
  },
  {
   "cell_type": "markdown",
   "metadata": {},
   "source": [
    "## Comentarios\n",
    "Cuando estás escribiendo un programa suele ser conveniente anotar que estás haciendo, especialmente en partes complejas, para facilitar leer el código en un futuro.\n",
    "\n",
    "En Python esto se hace con el símbolo `#` y seguido del texto que quieras anotar. El interprete ignorará todo lo que siga este carácter hasta el final de la línea.\n",
    "\n",
    "También puede ser útil para \"eliminar\" líneas de código que no queremos que se ejecuten pero tampoco queremos borrar."
   ]
  },
  {
   "cell_type": "code",
   "execution_count": null,
   "metadata": {},
   "outputs": [],
   "source": [
    "# Esto es un comentario\n",
    "print(\"ATG\") # codon de inicio\n",
    "# print(\"TAA\")"
   ]
  },
  {
   "cell_type": "markdown",
   "metadata": {},
   "source": [
    "## Aritmetica básica y operadores\n",
    "Por defecto Python soporta operaciones matemáticas sencillas. De igual manera que una calculadora, sigue las reglas de orden de operadores y se pueden utilizar parentesis para modificarlas.\n",
    "\n",
    "Las operaciones matemáticas deberan ser utilizadas con variables de tipo *int* o *float*, de lo contrario Python devolverá un error."
   ]
  },
  {
   "cell_type": "code",
   "execution_count": null,
   "metadata": {},
   "outputs": [],
   "source": [
    "x = 2.8\n",
    "y = 2\n",
    "\n",
    "print(x + y)    # suma\n",
    "print(x - y)    # resta\n",
    "print(x * y)    # multiplicación\n",
    "print(x / y)    # división\n",
    "print(x // y)   # división entera\n",
    "print(x % y)    # módulo (resto de la división entera)\n",
    "print(x ** y)   # potencia\n",
    "\n",
    "print((x + y) * 2)"
   ]
  },
  {
   "cell_type": "markdown",
   "metadata": {},
   "source": [
    "## Datos compuestos\n",
    "Además de los tipos de datos básicos, Python también soporta variables que incluyen multiples datos ordenados de una manera específica. Los más comunes son los *sets*, *diccionarios*, *tuplas* y *listas*, aunque solo nos centraremos en estas últimas.\n",
    "\n",
    "### Listas\n",
    "\n",
    "- Pueden contener cualquier numero de elementos\n",
    "- Pueden contener diferentes tipos de datos\n",
    "- Pueden ser modificadas\n",
    "- Mantienen el orden de sus elementos\n",
    "\n",
    "Para crear una lista se utilizan corchetes `[]` entre sus elementos, separados entre comas `,`"
   ]
  },
  {
   "cell_type": "code",
   "execution_count": null,
   "metadata": {},
   "outputs": [],
   "source": [
    "lista_vacia = []\n",
    "lista_enteros = [1, 2, 3, 4, 5]\n",
    "lista_variada = [\"CTG\", 2, 3.14159, True]\n",
    "matriz = [[1, 2, 3], [4, 5, 6], [7, 8, 9]]  # lista de listas"
   ]
  },
  {
   "cell_type": "markdown",
   "metadata": {},
   "source": [
    "Para acceder a un elemento de la lista se utiliza el índice que le corresponde, entre corchetes. ¡Los índices empiezan en 0!"
   ]
  },
  {
   "cell_type": "code",
   "execution_count": null,
   "metadata": {},
   "outputs": [],
   "source": [
    "print(lista_enteros[0])\n",
    "print(lista_enteros[2])"
   ]
  },
  {
   "cell_type": "markdown",
   "metadata": {},
   "source": [
    "A traves de los indices tambien podemos modificar un elemento de la lista."
   ]
  },
  {
   "cell_type": "code",
   "execution_count": null,
   "metadata": {},
   "outputs": [],
   "source": [
    "lista_enteros[0] = 10\n",
    "print(lista_enteros)"
   ]
  },
  {
   "cell_type": "markdown",
   "metadata": {},
   "source": [
    "Las listas se pueden manipular con métodos como `append()`, `insert()`, `reverse()` o `sort()`."
   ]
  },
  {
   "cell_type": "code",
   "execution_count": null,
   "metadata": {},
   "outputs": [],
   "source": [
    "lista_enteros.append(11)    # añade al final\n",
    "lista_enteros.insert(1, 8)  # inserta en la posición 1\n",
    "lista_enteros.sort()        # ordena los elementos\n",
    "lista_enteros.reverse()     # invierte el orden\n",
    "print(lista_enteros)"
   ]
  },
  {
   "cell_type": "markdown",
   "metadata": {},
   "source": [
    "## Funciones\n",
    "De momento solo hemos visto `print()`... ¡pero hay múltitud de funciones disponibles!\n",
    "\n",
    "Una función contiene una serie de instrucciones que se ejecutan cuando se llama a la misma. Al igual que una función matemática (`z = f(x,y)`), las funciones también pueden recibir argumentos (`x, y`) y devolver valores (`z`).\n",
    "\n",
    "Los argumentos se pasan entre paréntesis y separado por comas si son varios.  \n",
    "Podemos asignar a una variable el resultado de la función.\n",
    "\n",
    "Algunas de las funciones más útiles en caso de trabajar con listas son:\n",
    "- `list()`: convierte el argumento en una lista\n",
    "- `len()`: devuelve el número de elementos de una lista\n",
    "- `min()`: devuelve el elemento más pequeño de una lista\n",
    "- `max()`: devuelve el elemento más grande de una lista\n",
    "- `sum()`: devuelve la suma de todos los elementos de una lista"
   ]
  },
  {
   "cell_type": "code",
   "execution_count": null,
   "metadata": {},
   "outputs": [],
   "source": [
    "print(len(lista_enteros))\n",
    "print(min(lista_enteros))"
   ]
  },
  {
   "cell_type": "markdown",
   "metadata": {},
   "source": [
    "Además, existen funciones para crear listas automaticamente: `range()` nos devuelve todos los numeros entre un rango de valores(cuidado porque el ultimo valor no se incluye en el rango)."
   ]
  },
  {
   "cell_type": "code",
   "execution_count": null,
   "metadata": {},
   "outputs": [],
   "source": [
    "lista_grande = list(range(4, 100))\n",
    "print(lista_grande)"
   ]
  },
  {
   "cell_type": "markdown",
   "metadata": {},
   "source": [
    "Con estos fundamentos sobre variables, tipos de datos y funciones podemos hacer cosas mucho más complejas en Python...\n",
    "\n",
    "## [¿Seguimos?](intro_python_es_03.ipynb)"
   ]
  }
 ],
 "metadata": {
  "interpreter": {
   "hash": "ac59ebe37160ed0dfa835113d9b8498d9f09ceb179beaac4002f036b9467c963"
  },
  "kernelspec": {
   "display_name": "Python 3.9.1 64-bit",
   "language": "python",
   "name": "python3"
  },
  "language_info": {
   "codemirror_mode": {
    "name": "ipython",
    "version": 3
   },
   "file_extension": ".py",
   "mimetype": "text/x-python",
   "name": "python",
   "nbconvert_exporter": "python",
   "pygments_lexer": "ipython3",
   "version": "3.9.1"
  },
  "orig_nbformat": 4
 },
 "nbformat": 4,
 "nbformat_minor": 2
}
