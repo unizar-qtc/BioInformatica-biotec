{
 "cells": [
  {
   "cell_type": "markdown",
   "metadata": {},
   "source": [
    "# Introducción rápida a *Python* para Biotecnólogos\n",
    "\n",
    "#### Laboratorio de Bioinformática\n",
    "Grado en Biotecnología - *Universidad de Zaragoza*"
   ]
  },
  {
   "cell_type": "markdown",
   "metadata": {},
   "source": [
    "## Contenidos\n",
    "- Una idea general sobre *Python*\n",
    "- Jupyter Notebooks y Google Colab\n",
    "- Variables\n",
    "    - Tipos de datos sencillos\n",
    "    - Aritmética y operadores\n",
    "    - Tipos compuestos: listas\n",
    "- Usar Funciones\n",
    "- Estructuras de control\n",
    "    - Condicional (if)\n",
    "    - Bucles (for/while)\n",
    "    - Definir funciones\n",
    "- Módulos"
   ]
  },
  {
   "cell_type": "markdown",
   "metadata": {},
   "source": [
    "# ¿Qué es Python?\n",
    "Python es un lenguaje de programación de alto nivel, interpretado, multiparadigma y de tipado dinámico; conocido por su facilidad de programación y uso.\n",
    "\n",
    "- Creado por Guido van Rossum en el año 1991 (nombrado en honor al grupo humoristico *Monty Python*)\n",
    "- Gracias a su facilidad de uso y comunidad, es uno de los lenguajes de programación más populares ([PYPL](https://pypl.github.io/PYPL.html))\n",
    "- Es de proposito geneneral, por lo que ha encontrado infinidad de usos:\n",
    "    - Lider del *Machine Learning*\n",
    "- Existen varias versiones de Python que no son compatibles entre sí. La más reciente y popular es Python 3, aunque no es raro encontrar aún código escrito en Python 2.\n",
    "- Sus mayor debilidad es que puede ser un poco lento (para tareas intensivas es mejor usar C/C++ o Fortran)."
   ]
  },
  {
   "cell_type": "markdown",
   "metadata": {},
   "source": [
    "# ¿Cómo se usa?\n",
    "Es un lenguaje interpretado, por lo que no necesita ser compilado. Sin embargo los ordenadores solo entienden programas binarios compilados, por lo que hace falta que un *interprete* lea el código y lo ejecute. El interprete más común es CPython (aunque a veces tambien se le llama simplemente Python, pero no hay que confundir el interprete con el lenguaje de programación).\n",
    "\n",
    "Principalmente se puede utilizar de tres maneras:\n",
    "- Ejecutando el interprete en una terminal y escribiendo comandos **interactivamente**. Perfecto para experimentar.\n",
    "- Usando un **Jupyter notebook**, parecido al anterior pero con más caracteristicas: muestra mejor los resultados, permite guardar el código, compartirlo y reutilizarlo.\n",
    "- Escribiendo un **script**: un archivo de texto que contiene todas las instrucciones y que se ejecutarán en orden. Generalmente se nombran con el sufijo *.py*. Es la manera mas clásica de programar, conveniente cuando un programa es muy grande o cuando se quiere ejecutar varias veces."
   ]
  },
  {
   "cell_type": "markdown",
   "metadata": {},
   "source": [
    "# Jupyter Notebooks y Google Colab\n",
    "\n",
    "- El proyecto [Jupyter](https://jupyter.org/) ha desarrollado estos *cuadernos* con el objecivo de ayudar a programar de forma interactiva.\n",
    "  - Están organizados por **celdas** de código y/o texto. Debajo de cada una se puede mostrar el resultado de ejecutar esa celda: un resultado de una operación, un gráfico, una tabla, un mensaje de error, etc.\n",
    "  - Cada celda se numera según el orden en el que se ejecutan. Se puede volver a modificar y ejecutar una celda anterior, pero hay que tener cuidado porque el orden quedará trastocado.\n",
    "  - También se pueden ejecutar todas a la vez en orden. O reiniciar el cuaderno para resetear el orden.\n",
    "  - Lo mas común es escribir código de Python en una celda, aunque tambien existen celdas especiales en las que solo hay texto en formato *Markdown* (como esta celda!).\n",
    "  - Aunque estemos escribiendo en Python, también podemos ejecutar comandos del sistema como en una terminal normal, precediendo el comando por un signo de exclamación (**!**). Por ejemplo, para listar los archivos de una carpeta: `!ls`\n",
    "\n",
    "\n",
    "- Entre las herramientas que ofrece Google está [colab](https://colab.research.google.com/):\n",
    "  - Nos permite conectarnos con un ordenador virtual en un servidor de Google en el que podemos ejecutar un Jupyter Notebook, exactamente igual que si lo hiceramos en nuestro ordenador.\n",
    "  - Ya está todo configurado y listo para utilizar Python 3. Si queremos utilizar alguna otra herramienta o dependencia, podemos instalarla haciendo uso de *!comandos* como en cualquier terminal.\n",
    "  - Ofrece recursos para cálculos intensivos como GPUs y TPUs, muy útiles en ML.\n",
    "  - La versión gratuita limita la potencia de cálculo, espacio de almacenamiento y tiempo de ejecución disponibles, pero para muchas aplicaciones es suficiente."
   ]
  },
  {
   "cell_type": "markdown",
   "metadata": {},
   "source": [
    "## [¿Empezamos?](intro_python_es_02.ipynb)"
   ]
  }
 ],
 "metadata": {
  "language_info": {
   "name": "python"
  },
  "orig_nbformat": 4
 },
 "nbformat": 4,
 "nbformat_minor": 2
}
